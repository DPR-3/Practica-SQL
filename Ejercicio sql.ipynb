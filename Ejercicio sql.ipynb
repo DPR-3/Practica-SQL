{
 "cells": [
  {
   "cell_type": "code",
   "execution_count": 1,
   "id": "e938e43d-55c7-405e-953f-000d8b07294b",
   "metadata": {
    "tags": []
   },
   "outputs": [],
   "source": [
    "#Importamos las librerias \n",
    "import sqlite3\n",
    "import pandas as pd\n",
    "\n",
    "#Conectamos con la base de datos\n",
    "con = sqlite3.connect(\"Chinook_Sqlite.sqlite\")\n",
    "\n",
    "#creamos un cursor\n",
    "cursor = con.cursor()\n",
    "\n",
    "#Creamos una funcion para ejecutar las consultas y mostrar los resultados\n",
    "def ejecutar_consulta(consulta):\n",
    "    df = pd.read_sql_query(consulta, con)\n",
    "    return df"
   ]
  },
  {
   "cell_type": "code",
   "execution_count": 2,
   "id": "82868b80-9668-46f8-bd7f-93821969bdb5",
   "metadata": {
    "tags": []
   },
   "outputs": [
    {
     "name": "stdout",
     "output_type": "stream",
     "text": [
      "Consulta 1: Columna Email\n",
      "                            Email\n",
      "0            luisg@embraer.com.br\n",
      "1           leonekohler@surfeu.de\n",
      "2             ftremblay@gmail.com\n",
      "3           bjorn.hansen@yahoo.no\n",
      "4        frantisekw@jetbrains.com\n",
      "5                 hholy@gmail.com\n",
      "6          astrid.gruber@apple.at\n",
      "7           daan_peeters@apple.be\n",
      "8           kara.nielsen@jubii.dk\n",
      "9        eduardo@woodstock.com.br\n",
      "10               alero@uol.com.br\n",
      "11  roberto.almeida@riotur.gov.br\n",
      "12       fernadaramos4@uol.com.br\n",
      "13             mphilips12@shaw.ca\n",
      "14            jenniferp@rogers.ca\n",
      "15             fharris@google.com\n",
      "16        jacksmith@microsoft.com\n",
      "17              michelleb@aol.com\n",
      "18               tgoyer@apple.com\n",
      "19            dmiller@comcast.com\n",
      "20            kachase@hotmail.com\n",
      "21             hleacock@gmail.com\n",
      "22         johngordon22@yahoo.com\n",
      "23             fralston@gmail.com\n",
      "24             vstevens@yahoo.com\n",
      "25       ricunningham@hotmail.com\n",
      "26           patrick.gray@aol.com\n",
      "27            jubarnett@gmail.com\n",
      "28               robbrown@shaw.ca\n",
      "29            edfrancis@yachoo.ca\n",
      "30           marthasilk@gmail.com\n",
      "31         aaronmitchell@yahoo.ca\n",
      "32         ellie.sullivan@shaw.ca\n",
      "33            jfernandes@yahoo.pt\n",
      "34              masampaio@sapo.pt\n",
      "35      hannah.schneider@yahoo.de\n",
      "36           fzimmermann@yahoo.de\n",
      "37            nschroder@surfeu.de\n",
      "38       camille.bernard@yahoo.fr\n",
      "39    dominiquelefebvre@gmail.com\n",
      "40        marc.dubois@hotmail.com\n",
      "41          wyatt.girard@yahoo.fr\n",
      "42      isabelle_mercier@apple.fr\n",
      "43      terhi.hamalainen@apple.fi\n",
      "44       ladislav_kovacs@apple.hu\n",
      "45           hughoreilly@apple.ie\n",
      "46         lucas.mancini@yahoo.it\n",
      "47        johavanderberg@yahoo.nl\n",
      "48         stanisław.wójcik@wp.pl\n",
      "49         enrique_munoz@yahoo.es\n",
      "50      joakim.johansson@yahoo.se\n",
      "51         emma_jones@hotmail.com\n",
      "52          phil.hughes@gmail.com\n",
      "53          steve.murray@yahoo.uk\n",
      "54           mark.taylor@yahoo.au\n",
      "55       diego.gutierrez@yahoo.ar\n",
      "56             luisrojas@yahoo.cl\n",
      "57        manoj.pareek@rediff.com\n",
      "58       puja_srivastava@yahoo.in\n"
     ]
    }
   ],
   "source": [
    "\"\"\"\n",
    "Actividad 2-1 (Atención al cliente)\n",
    "\n",
    "Trabaja con la tabla Customer.\n",
    "\n",
    "Muestra la columna Email.\n",
    "Muestra la columna FirstName.\n",
    "Muestra las columnas FirstName y LastName.\n",
    "Muestra las columnas Address, Phone y Fax.\n",
    "Muestra todas las columnas.\n",
    "\"\"\"\n",
    "\n",
    "#Muestra la columna Email.\n",
    "consulta_email = \"SELECT Email From Customer;\"\n",
    "resultado_email = ejecutar_consulta(consulta_email)\n",
    "print(\"Consulta 1: Columna Email\")\n",
    "print(resultado_email)"
   ]
  },
  {
   "cell_type": "code",
   "execution_count": 3,
   "id": "9a48e0e8-d3e8-4175-aa5b-6535fec7a083",
   "metadata": {
    "tags": []
   },
   "outputs": [
    {
     "name": "stdout",
     "output_type": "stream",
     "text": [
      "Consulta 2: Columna FirstName\n",
      "    FirstName\n",
      "0        Luís\n",
      "1      Leonie\n",
      "2    François\n",
      "3       Bjørn\n",
      "4   František\n",
      "5      Helena\n",
      "6      Astrid\n",
      "7        Daan\n",
      "8        Kara\n",
      "9     Eduardo\n",
      "10  Alexandre\n",
      "11    Roberto\n",
      "12   Fernanda\n",
      "13       Mark\n",
      "14   Jennifer\n",
      "15      Frank\n",
      "16       Jack\n",
      "17   Michelle\n",
      "18        Tim\n",
      "19        Dan\n",
      "20      Kathy\n",
      "21    Heather\n",
      "22       John\n",
      "23      Frank\n",
      "24     Victor\n",
      "25    Richard\n",
      "26    Patrick\n",
      "27      Julia\n",
      "28     Robert\n",
      "29     Edward\n",
      "30     Martha\n",
      "31      Aaron\n",
      "32      Ellie\n",
      "33       João\n",
      "34   Madalena\n",
      "35     Hannah\n",
      "36       Fynn\n",
      "37     Niklas\n",
      "38    Camille\n",
      "39  Dominique\n",
      "40       Marc\n",
      "41      Wyatt\n",
      "42   Isabelle\n",
      "43      Terhi\n",
      "44   Ladislav\n",
      "45       Hugh\n",
      "46      Lucas\n",
      "47   Johannes\n",
      "48  Stanisław\n",
      "49    Enrique\n",
      "50     Joakim\n",
      "51       Emma\n",
      "52       Phil\n",
      "53      Steve\n",
      "54       Mark\n",
      "55      Diego\n",
      "56       Luis\n",
      "57      Manoj\n",
      "58       Puja\n"
     ]
    }
   ],
   "source": [
    "#Muestra la columna FirstName\n",
    "consulta_FirstName = \"SELECT FirstName From Customer;\"\n",
    "resultado_FirstName = ejecutar_consulta(consulta_FirstName)\n",
    "print(\"Consulta 2: Columna FirstName\")\n",
    "print(resultado_FirstName)"
   ]
  },
  {
   "cell_type": "code",
   "execution_count": 4,
   "id": "5a9460a1-7157-4858-b747-85fa783c0b52",
   "metadata": {
    "tags": []
   },
   "outputs": [
    {
     "name": "stdout",
     "output_type": "stream",
     "text": [
      "Consulta 3: Columnas FirstName y LastName\n",
      "    FirstName      LastName\n",
      "0        Luís     Gonçalves\n",
      "1      Leonie        Köhler\n",
      "2    François      Tremblay\n",
      "3       Bjørn        Hansen\n",
      "4   František   Wichterlová\n",
      "5      Helena          Holý\n",
      "6      Astrid        Gruber\n",
      "7        Daan       Peeters\n",
      "8        Kara       Nielsen\n",
      "9     Eduardo       Martins\n",
      "10  Alexandre         Rocha\n",
      "11    Roberto       Almeida\n",
      "12   Fernanda         Ramos\n",
      "13       Mark       Philips\n",
      "14   Jennifer      Peterson\n",
      "15      Frank        Harris\n",
      "16       Jack         Smith\n",
      "17   Michelle        Brooks\n",
      "18        Tim         Goyer\n",
      "19        Dan        Miller\n",
      "20      Kathy         Chase\n",
      "21    Heather       Leacock\n",
      "22       John        Gordon\n",
      "23      Frank       Ralston\n",
      "24     Victor       Stevens\n",
      "25    Richard    Cunningham\n",
      "26    Patrick          Gray\n",
      "27      Julia       Barnett\n",
      "28     Robert         Brown\n",
      "29     Edward       Francis\n",
      "30     Martha          Silk\n",
      "31      Aaron      Mitchell\n",
      "32      Ellie      Sullivan\n",
      "33       João     Fernandes\n",
      "34   Madalena       Sampaio\n",
      "35     Hannah     Schneider\n",
      "36       Fynn    Zimmermann\n",
      "37     Niklas      Schröder\n",
      "38    Camille       Bernard\n",
      "39  Dominique      Lefebvre\n",
      "40       Marc        Dubois\n",
      "41      Wyatt        Girard\n",
      "42   Isabelle       Mercier\n",
      "43      Terhi    Hämäläinen\n",
      "44   Ladislav        Kovács\n",
      "45       Hugh      O'Reilly\n",
      "46      Lucas       Mancini\n",
      "47   Johannes  Van der Berg\n",
      "48  Stanisław        Wójcik\n",
      "49    Enrique         Muñoz\n",
      "50     Joakim     Johansson\n",
      "51       Emma         Jones\n",
      "52       Phil        Hughes\n",
      "53      Steve        Murray\n",
      "54       Mark        Taylor\n",
      "55      Diego     Gutiérrez\n",
      "56       Luis         Rojas\n",
      "57      Manoj        Pareek\n",
      "58       Puja    Srivastava\n"
     ]
    }
   ],
   "source": [
    "#Muestra las columnas FirstName y LastName.\n",
    "consulta_Nombres = \"SELECT FirstName, LastName From Customer;\"\n",
    "resultado_Nombres = ejecutar_consulta(consulta_Nombres)\n",
    "print(\"Consulta 3: Columnas FirstName y LastName\")\n",
    "print(resultado_Nombres)"
   ]
  },
  {
   "cell_type": "code",
   "execution_count": 5,
   "id": "d95030d6-093d-4fcb-ab3c-9cb60e2138d9",
   "metadata": {
    "tags": []
   },
   "outputs": [
    {
     "name": "stdout",
     "output_type": "stream",
     "text": [
      "Consulta 4: Columnas Address, Phone y Fax\n",
      "                                     Address                Phone  \\\n",
      "0            Av. Brigadeiro Faria Lima, 2170   +55 (12) 3923-5555   \n",
      "1                    Theodor-Heuss-Straße 34     +49 0711 2842222   \n",
      "2                          1498 rue Bélanger    +1 (514) 721-4711   \n",
      "3                           Ullevålsveien 14      +47 22 44 22 22   \n",
      "4                              Klanova 9/506     +420 2 4172 5555   \n",
      "5                              Rilská 3174/6     +420 2 4177 0449   \n",
      "6       Rotenturmstraße 4, 1010 Innere Stadt       +43 01 5134505   \n",
      "7                            Grétrystraat 63     +32 02 219 03 03   \n",
      "8                        Sønder Boulevard 51       +453 3331 9991   \n",
      "9                  Rua Dr. Falcão Filho, 155   +55 (11) 3033-5446   \n",
      "10                        Av. Paulista, 2022   +55 (11) 3055-3278   \n",
      "11                          Praça Pio X, 119   +55 (21) 2271-7000   \n",
      "12                              Qe 7 Bloco G   +55 (61) 3363-5547   \n",
      "13                            8210 111 ST NW    +1 (780) 434-4554   \n",
      "14                       700 W Pender Street    +1 (604) 688-2255   \n",
      "15                 1600 Amphitheatre Parkway    +1 (650) 253-0000   \n",
      "16                           1 Microsoft Way    +1 (425) 882-8080   \n",
      "17                              627 Broadway    +1 (212) 221-3546   \n",
      "18                           1 Infinite Loop    +1 (408) 996-1010   \n",
      "19                      541 Del Medio Avenue    +1 (650) 644-3358   \n",
      "20                          801 W 4th Street    +1 (775) 223-7665   \n",
      "21                          120 S Orange Ave    +1 (407) 999-7788   \n",
      "22                           69 Salem Street    +1 (617) 522-1333   \n",
      "23                     162 E Superior Street    +1 (312) 332-3232   \n",
      "24                     319 N. Frances Street    +1 (608) 257-0597   \n",
      "25                       2211 W Berry Street    +1 (817) 924-7272   \n",
      "26                           1033 N Park Ave    +1 (520) 622-4200   \n",
      "27                               302 S 700 E    +1 (801) 531-7272   \n",
      "28                    796 Dundas Street West    +1 (416) 363-8888   \n",
      "29                          230 Elgin Street    +1 (613) 234-3322   \n",
      "30                     194A Chain Lake Drive    +1 (902) 450-0450   \n",
      "31                        696 Osborne Street    +1 (204) 452-6452   \n",
      "32                            5112 48 Street    +1 (867) 920-2233   \n",
      "33                        Rua da Assunção 53   +351 (213) 466-111   \n",
      "34  Rua dos Campeões Europeus de Viena, 4350   +351 (225) 022-448   \n",
      "35                        Tauentzienstraße 8     +49 030 26550280   \n",
      "36                          Berger Straße 10     +49 069 40598889   \n",
      "37                       Barbarossastraße 19      +49 030 2141444   \n",
      "38                             4, Rue Milton   +33 01 49 70 65 65   \n",
      "39                            8, Rue Hanovre   +33 01 47 42 71 71   \n",
      "40                       11, Place Bellecour   +33 04 78 30 30 30   \n",
      "41                    9, Place Louis Barthou   +33 05 56 96 96 96   \n",
      "42                          68, Rue Jouvence   +33 03 80 73 66 99   \n",
      "43                           Porthaninkatu 9     +358 09 870 2000   \n",
      "44                         Erzsébet krt. 58.                 None   \n",
      "45                          3 Chatham Street      +353 01 6792424   \n",
      "46                    Via Degli Scipioni, 43      +39 06 39733434   \n",
      "47                     Lijnbaansgracht 120bg      +31 020 6223130   \n",
      "48                              Ordynacka 10     +48 22 828 37 39   \n",
      "49                        C/ San Bernardo 85      +34 914 454 454   \n",
      "50                               Celsiusg. 9     +46 08-651 52 52   \n",
      "51                         202 Hoxton Street    +44 020 7707 0707   \n",
      "52                              113 Lupus St    +44 020 7976 5722   \n",
      "53                            110 Raeburn Pl    +44 0131 315 3300   \n",
      "54                         421 Bourke Street   +61 (02) 9332 3633   \n",
      "55                        307 Macacha Güemes  +54 (0)11 4311 4333   \n",
      "56                           Calle Lira, 198    +56 (0)2 635 4444   \n",
      "57                       12,Community Centre    +91 0124 39883988   \n",
      "58                         3,Raj Bhavan Road     +91 080 22289999   \n",
      "\n",
      "                   Fax  \n",
      "0   +55 (12) 3923-5566  \n",
      "1                 None  \n",
      "2                 None  \n",
      "3                 None  \n",
      "4     +420 2 4172 5555  \n",
      "5                 None  \n",
      "6                 None  \n",
      "7                 None  \n",
      "8                 None  \n",
      "9   +55 (11) 3033-4564  \n",
      "10  +55 (11) 3055-8131  \n",
      "11  +55 (21) 2271-7070  \n",
      "12  +55 (61) 3363-7855  \n",
      "13   +1 (780) 434-5565  \n",
      "14   +1 (604) 688-8756  \n",
      "15   +1 (650) 253-0000  \n",
      "16   +1 (425) 882-8081  \n",
      "17   +1 (212) 221-4679  \n",
      "18   +1 (408) 996-1011  \n",
      "19                None  \n",
      "20                None  \n",
      "21                None  \n",
      "22                None  \n",
      "23                None  \n",
      "24                None  \n",
      "25                None  \n",
      "26                None  \n",
      "27                None  \n",
      "28                None  \n",
      "29                None  \n",
      "30                None  \n",
      "31                None  \n",
      "32                None  \n",
      "33                None  \n",
      "34                None  \n",
      "35                None  \n",
      "36                None  \n",
      "37                None  \n",
      "38                None  \n",
      "39                None  \n",
      "40                None  \n",
      "41                None  \n",
      "42                None  \n",
      "43                None  \n",
      "44                None  \n",
      "45                None  \n",
      "46                None  \n",
      "47                None  \n",
      "48                None  \n",
      "49                None  \n",
      "50                None  \n",
      "51                None  \n",
      "52                None  \n",
      "53                None  \n",
      "54                None  \n",
      "55                None  \n",
      "56                None  \n",
      "57                None  \n",
      "58                None  \n"
     ]
    }
   ],
   "source": [
    "#Muestra las columnas Address, Phone y Fax.\n",
    "consulta_Contacto = \"SELECT Address, Phone, Fax From Customer;\"\n",
    "resultado_Contacto = ejecutar_consulta(consulta_Contacto)\n",
    "print(\"Consulta 4: Columnas Address, Phone y Fax\")\n",
    "print(resultado_Contacto)\n"
   ]
  },
  {
   "cell_type": "code",
   "execution_count": 6,
   "id": "c719bd90-7ac4-433a-b89a-ab8b2e675242",
   "metadata": {
    "tags": []
   },
   "outputs": [
    {
     "name": "stdout",
     "output_type": "stream",
     "text": [
      "Consulta 4: Todas las columnas\n",
      "    CustomerId  FirstName      LastName  \\\n",
      "0            1       Luís     Gonçalves   \n",
      "1            2     Leonie        Köhler   \n",
      "2            3   François      Tremblay   \n",
      "3            4      Bjørn        Hansen   \n",
      "4            5  František   Wichterlová   \n",
      "5            6     Helena          Holý   \n",
      "6            7     Astrid        Gruber   \n",
      "7            8       Daan       Peeters   \n",
      "8            9       Kara       Nielsen   \n",
      "9           10    Eduardo       Martins   \n",
      "10          11  Alexandre         Rocha   \n",
      "11          12    Roberto       Almeida   \n",
      "12          13   Fernanda         Ramos   \n",
      "13          14       Mark       Philips   \n",
      "14          15   Jennifer      Peterson   \n",
      "15          16      Frank        Harris   \n",
      "16          17       Jack         Smith   \n",
      "17          18   Michelle        Brooks   \n",
      "18          19        Tim         Goyer   \n",
      "19          20        Dan        Miller   \n",
      "20          21      Kathy         Chase   \n",
      "21          22    Heather       Leacock   \n",
      "22          23       John        Gordon   \n",
      "23          24      Frank       Ralston   \n",
      "24          25     Victor       Stevens   \n",
      "25          26    Richard    Cunningham   \n",
      "26          27    Patrick          Gray   \n",
      "27          28      Julia       Barnett   \n",
      "28          29     Robert         Brown   \n",
      "29          30     Edward       Francis   \n",
      "30          31     Martha          Silk   \n",
      "31          32      Aaron      Mitchell   \n",
      "32          33      Ellie      Sullivan   \n",
      "33          34       João     Fernandes   \n",
      "34          35   Madalena       Sampaio   \n",
      "35          36     Hannah     Schneider   \n",
      "36          37       Fynn    Zimmermann   \n",
      "37          38     Niklas      Schröder   \n",
      "38          39    Camille       Bernard   \n",
      "39          40  Dominique      Lefebvre   \n",
      "40          41       Marc        Dubois   \n",
      "41          42      Wyatt        Girard   \n",
      "42          43   Isabelle       Mercier   \n",
      "43          44      Terhi    Hämäläinen   \n",
      "44          45   Ladislav        Kovács   \n",
      "45          46       Hugh      O'Reilly   \n",
      "46          47      Lucas       Mancini   \n",
      "47          48   Johannes  Van der Berg   \n",
      "48          49  Stanisław        Wójcik   \n",
      "49          50    Enrique         Muñoz   \n",
      "50          51     Joakim     Johansson   \n",
      "51          52       Emma         Jones   \n",
      "52          53       Phil        Hughes   \n",
      "53          54      Steve        Murray   \n",
      "54          55       Mark        Taylor   \n",
      "55          56      Diego     Gutiérrez   \n",
      "56          57       Luis         Rojas   \n",
      "57          58      Manoj        Pareek   \n",
      "58          59       Puja    Srivastava   \n",
      "\n",
      "                                             Company  \\\n",
      "0   Embraer - Empresa Brasileira de Aeronáutica S.A.   \n",
      "1                                               None   \n",
      "2                                               None   \n",
      "3                                               None   \n",
      "4                                   JetBrains s.r.o.   \n",
      "5                                               None   \n",
      "6                                               None   \n",
      "7                                               None   \n",
      "8                                               None   \n",
      "9                                   Woodstock Discos   \n",
      "10                              Banco do Brasil S.A.   \n",
      "11                                            Riotur   \n",
      "12                                              None   \n",
      "13                                             Telus   \n",
      "14                                     Rogers Canada   \n",
      "15                                       Google Inc.   \n",
      "16                             Microsoft Corporation   \n",
      "17                                              None   \n",
      "18                                        Apple Inc.   \n",
      "19                                              None   \n",
      "20                                              None   \n",
      "21                                              None   \n",
      "22                                              None   \n",
      "23                                              None   \n",
      "24                                              None   \n",
      "25                                              None   \n",
      "26                                              None   \n",
      "27                                              None   \n",
      "28                                              None   \n",
      "29                                              None   \n",
      "30                                              None   \n",
      "31                                              None   \n",
      "32                                              None   \n",
      "33                                              None   \n",
      "34                                              None   \n",
      "35                                              None   \n",
      "36                                              None   \n",
      "37                                              None   \n",
      "38                                              None   \n",
      "39                                              None   \n",
      "40                                              None   \n",
      "41                                              None   \n",
      "42                                              None   \n",
      "43                                              None   \n",
      "44                                              None   \n",
      "45                                              None   \n",
      "46                                              None   \n",
      "47                                              None   \n",
      "48                                              None   \n",
      "49                                              None   \n",
      "50                                              None   \n",
      "51                                              None   \n",
      "52                                              None   \n",
      "53                                              None   \n",
      "54                                              None   \n",
      "55                                              None   \n",
      "56                                              None   \n",
      "57                                              None   \n",
      "58                                              None   \n",
      "\n",
      "                                     Address                 City   State  \\\n",
      "0            Av. Brigadeiro Faria Lima, 2170  São José dos Campos      SP   \n",
      "1                    Theodor-Heuss-Straße 34            Stuttgart    None   \n",
      "2                          1498 rue Bélanger             Montréal      QC   \n",
      "3                           Ullevålsveien 14                 Oslo    None   \n",
      "4                              Klanova 9/506               Prague    None   \n",
      "5                              Rilská 3174/6               Prague    None   \n",
      "6       Rotenturmstraße 4, 1010 Innere Stadt               Vienne    None   \n",
      "7                            Grétrystraat 63             Brussels    None   \n",
      "8                        Sønder Boulevard 51           Copenhagen    None   \n",
      "9                  Rua Dr. Falcão Filho, 155            São Paulo      SP   \n",
      "10                        Av. Paulista, 2022            São Paulo      SP   \n",
      "11                          Praça Pio X, 119       Rio de Janeiro      RJ   \n",
      "12                              Qe 7 Bloco G             Brasília      DF   \n",
      "13                            8210 111 ST NW             Edmonton      AB   \n",
      "14                       700 W Pender Street            Vancouver      BC   \n",
      "15                 1600 Amphitheatre Parkway        Mountain View      CA   \n",
      "16                           1 Microsoft Way              Redmond      WA   \n",
      "17                              627 Broadway             New York      NY   \n",
      "18                           1 Infinite Loop            Cupertino      CA   \n",
      "19                      541 Del Medio Avenue        Mountain View      CA   \n",
      "20                          801 W 4th Street                 Reno      NV   \n",
      "21                          120 S Orange Ave              Orlando      FL   \n",
      "22                           69 Salem Street               Boston      MA   \n",
      "23                     162 E Superior Street              Chicago      IL   \n",
      "24                     319 N. Frances Street              Madison      WI   \n",
      "25                       2211 W Berry Street           Fort Worth      TX   \n",
      "26                           1033 N Park Ave               Tucson      AZ   \n",
      "27                               302 S 700 E       Salt Lake City      UT   \n",
      "28                    796 Dundas Street West              Toronto      ON   \n",
      "29                          230 Elgin Street               Ottawa      ON   \n",
      "30                     194A Chain Lake Drive              Halifax      NS   \n",
      "31                        696 Osborne Street             Winnipeg      MB   \n",
      "32                            5112 48 Street          Yellowknife      NT   \n",
      "33                        Rua da Assunção 53               Lisbon    None   \n",
      "34  Rua dos Campeões Europeus de Viena, 4350                Porto    None   \n",
      "35                        Tauentzienstraße 8               Berlin    None   \n",
      "36                          Berger Straße 10            Frankfurt    None   \n",
      "37                       Barbarossastraße 19               Berlin    None   \n",
      "38                             4, Rue Milton                Paris    None   \n",
      "39                            8, Rue Hanovre                Paris    None   \n",
      "40                       11, Place Bellecour                 Lyon    None   \n",
      "41                    9, Place Louis Barthou             Bordeaux    None   \n",
      "42                          68, Rue Jouvence                Dijon    None   \n",
      "43                           Porthaninkatu 9             Helsinki    None   \n",
      "44                         Erzsébet krt. 58.             Budapest    None   \n",
      "45                          3 Chatham Street               Dublin  Dublin   \n",
      "46                    Via Degli Scipioni, 43                 Rome      RM   \n",
      "47                     Lijnbaansgracht 120bg            Amsterdam      VV   \n",
      "48                              Ordynacka 10               Warsaw    None   \n",
      "49                        C/ San Bernardo 85               Madrid    None   \n",
      "50                               Celsiusg. 9            Stockholm    None   \n",
      "51                         202 Hoxton Street               London    None   \n",
      "52                              113 Lupus St               London    None   \n",
      "53                            110 Raeburn Pl           Edinburgh     None   \n",
      "54                         421 Bourke Street               Sidney     NSW   \n",
      "55                        307 Macacha Güemes         Buenos Aires    None   \n",
      "56                           Calle Lira, 198             Santiago    None   \n",
      "57                       12,Community Centre                Delhi    None   \n",
      "58                         3,Raj Bhavan Road            Bangalore    None   \n",
      "\n",
      "           Country  PostalCode                Phone                 Fax  \\\n",
      "0           Brazil   12227-000   +55 (12) 3923-5555  +55 (12) 3923-5566   \n",
      "1          Germany       70174     +49 0711 2842222                None   \n",
      "2           Canada     H2G 1A7    +1 (514) 721-4711                None   \n",
      "3           Norway        0171      +47 22 44 22 22                None   \n",
      "4   Czech Republic       14700     +420 2 4172 5555    +420 2 4172 5555   \n",
      "5   Czech Republic       14300     +420 2 4177 0449                None   \n",
      "6          Austria        1010       +43 01 5134505                None   \n",
      "7          Belgium        1000     +32 02 219 03 03                None   \n",
      "8          Denmark        1720       +453 3331 9991                None   \n",
      "9           Brazil   01007-010   +55 (11) 3033-5446  +55 (11) 3033-4564   \n",
      "10          Brazil   01310-200   +55 (11) 3055-3278  +55 (11) 3055-8131   \n",
      "11          Brazil   20040-020   +55 (21) 2271-7000  +55 (21) 2271-7070   \n",
      "12          Brazil   71020-677   +55 (61) 3363-5547  +55 (61) 3363-7855   \n",
      "13          Canada     T6G 2C7    +1 (780) 434-4554   +1 (780) 434-5565   \n",
      "14          Canada     V6C 1G8    +1 (604) 688-2255   +1 (604) 688-8756   \n",
      "15             USA  94043-1351    +1 (650) 253-0000   +1 (650) 253-0000   \n",
      "16             USA  98052-8300    +1 (425) 882-8080   +1 (425) 882-8081   \n",
      "17             USA  10012-2612    +1 (212) 221-3546   +1 (212) 221-4679   \n",
      "18             USA       95014    +1 (408) 996-1010   +1 (408) 996-1011   \n",
      "19             USA   94040-111    +1 (650) 644-3358                None   \n",
      "20             USA       89503    +1 (775) 223-7665                None   \n",
      "21             USA       32801    +1 (407) 999-7788                None   \n",
      "22             USA        2113    +1 (617) 522-1333                None   \n",
      "23             USA       60611    +1 (312) 332-3232                None   \n",
      "24             USA       53703    +1 (608) 257-0597                None   \n",
      "25             USA       76110    +1 (817) 924-7272                None   \n",
      "26             USA       85719    +1 (520) 622-4200                None   \n",
      "27             USA       84102    +1 (801) 531-7272                None   \n",
      "28          Canada     M6J 1V1    +1 (416) 363-8888                None   \n",
      "29          Canada     K2P 1L7    +1 (613) 234-3322                None   \n",
      "30          Canada     B3S 1C5    +1 (902) 450-0450                None   \n",
      "31          Canada     R3L 2B9    +1 (204) 452-6452                None   \n",
      "32          Canada     X1A 1N6    +1 (867) 920-2233                None   \n",
      "33        Portugal        None   +351 (213) 466-111                None   \n",
      "34        Portugal        None   +351 (225) 022-448                None   \n",
      "35         Germany       10789     +49 030 26550280                None   \n",
      "36         Germany       60316     +49 069 40598889                None   \n",
      "37         Germany       10779      +49 030 2141444                None   \n",
      "38          France       75009   +33 01 49 70 65 65                None   \n",
      "39          France       75002   +33 01 47 42 71 71                None   \n",
      "40          France       69002   +33 04 78 30 30 30                None   \n",
      "41          France       33000   +33 05 56 96 96 96                None   \n",
      "42          France       21000   +33 03 80 73 66 99                None   \n",
      "43         Finland       00530     +358 09 870 2000                None   \n",
      "44         Hungary      H-1073                 None                None   \n",
      "45         Ireland        None      +353 01 6792424                None   \n",
      "46           Italy       00192      +39 06 39733434                None   \n",
      "47     Netherlands        1016      +31 020 6223130                None   \n",
      "48          Poland      00-358     +48 22 828 37 39                None   \n",
      "49           Spain       28015      +34 914 454 454                None   \n",
      "50          Sweden       11230     +46 08-651 52 52                None   \n",
      "51  United Kingdom      N1 5LH    +44 020 7707 0707                None   \n",
      "52  United Kingdom    SW1V 3EN    +44 020 7976 5722                None   \n",
      "53  United Kingdom     EH4 1HH    +44 0131 315 3300                None   \n",
      "54       Australia        2010   +61 (02) 9332 3633                None   \n",
      "55       Argentina        1106  +54 (0)11 4311 4333                None   \n",
      "56           Chile        None    +56 (0)2 635 4444                None   \n",
      "57           India      110017    +91 0124 39883988                None   \n",
      "58           India      560001     +91 080 22289999                None   \n",
      "\n",
      "                            Email  SupportRepId  \n",
      "0            luisg@embraer.com.br             3  \n",
      "1           leonekohler@surfeu.de             5  \n",
      "2             ftremblay@gmail.com             3  \n",
      "3           bjorn.hansen@yahoo.no             4  \n",
      "4        frantisekw@jetbrains.com             4  \n",
      "5                 hholy@gmail.com             5  \n",
      "6          astrid.gruber@apple.at             5  \n",
      "7           daan_peeters@apple.be             4  \n",
      "8           kara.nielsen@jubii.dk             4  \n",
      "9        eduardo@woodstock.com.br             4  \n",
      "10               alero@uol.com.br             5  \n",
      "11  roberto.almeida@riotur.gov.br             3  \n",
      "12       fernadaramos4@uol.com.br             4  \n",
      "13             mphilips12@shaw.ca             5  \n",
      "14            jenniferp@rogers.ca             3  \n",
      "15             fharris@google.com             4  \n",
      "16        jacksmith@microsoft.com             5  \n",
      "17              michelleb@aol.com             3  \n",
      "18               tgoyer@apple.com             3  \n",
      "19            dmiller@comcast.com             4  \n",
      "20            kachase@hotmail.com             5  \n",
      "21             hleacock@gmail.com             4  \n",
      "22         johngordon22@yahoo.com             4  \n",
      "23             fralston@gmail.com             3  \n",
      "24             vstevens@yahoo.com             5  \n",
      "25       ricunningham@hotmail.com             4  \n",
      "26           patrick.gray@aol.com             4  \n",
      "27            jubarnett@gmail.com             5  \n",
      "28               robbrown@shaw.ca             3  \n",
      "29            edfrancis@yachoo.ca             3  \n",
      "30           marthasilk@gmail.com             5  \n",
      "31         aaronmitchell@yahoo.ca             4  \n",
      "32         ellie.sullivan@shaw.ca             3  \n",
      "33            jfernandes@yahoo.pt             4  \n",
      "34              masampaio@sapo.pt             4  \n",
      "35      hannah.schneider@yahoo.de             5  \n",
      "36           fzimmermann@yahoo.de             3  \n",
      "37            nschroder@surfeu.de             3  \n",
      "38       camille.bernard@yahoo.fr             4  \n",
      "39    dominiquelefebvre@gmail.com             4  \n",
      "40        marc.dubois@hotmail.com             5  \n",
      "41          wyatt.girard@yahoo.fr             3  \n",
      "42      isabelle_mercier@apple.fr             3  \n",
      "43      terhi.hamalainen@apple.fi             3  \n",
      "44       ladislav_kovacs@apple.hu             3  \n",
      "45           hughoreilly@apple.ie             3  \n",
      "46         lucas.mancini@yahoo.it             5  \n",
      "47        johavanderberg@yahoo.nl             5  \n",
      "48         stanisław.wójcik@wp.pl             4  \n",
      "49         enrique_munoz@yahoo.es             5  \n",
      "50      joakim.johansson@yahoo.se             5  \n",
      "51         emma_jones@hotmail.com             3  \n",
      "52          phil.hughes@gmail.com             3  \n",
      "53          steve.murray@yahoo.uk             5  \n",
      "54           mark.taylor@yahoo.au             4  \n",
      "55       diego.gutierrez@yahoo.ar             4  \n",
      "56             luisrojas@yahoo.cl             5  \n",
      "57        manoj.pareek@rediff.com             3  \n",
      "58       puja_srivastava@yahoo.in             3  \n"
     ]
    }
   ],
   "source": [
    "#Muestra todas las columnas.\n",
    "consulta_todas_columnas = \"SELECT * From Customer;\"\n",
    "resultado_todas_columnas = ejecutar_consulta(consulta_todas_columnas)\n",
    "print(\"Consulta 4: Todas las columnas\")\n",
    "print(resultado_todas_columnas)\n"
   ]
  },
  {
   "cell_type": "code",
   "execution_count": 7,
   "id": "3df05aef-4477-4100-a8c4-0cac2dc6dbb1",
   "metadata": {
    "tags": []
   },
   "outputs": [
    {
     "ename": "SyntaxError",
     "evalue": "invalid syntax (1882511807.py, line 1)",
     "output_type": "error",
     "traceback": [
      "\u001b[1;36m  Cell \u001b[1;32mIn[7], line 1\u001b[1;36m\u001b[0m\n\u001b[1;33m    Actividad 3-1 (Ordenando a mi manera)\u001b[0m\n\u001b[1;37m              ^\u001b[0m\n\u001b[1;31mSyntaxError\u001b[0m\u001b[1;31m:\u001b[0m invalid syntax\n"
     ]
    }
   ],
   "source": [
    "Actividad 3-1 (Ordenando a mi manera)\n",
    "\n",
    "Ordena la tabla de géneros (Genre) por orden alfabético.\n",
    "Corta los resultados para que solo se muestren los 6 primeros.\n",
    "Subir Nota:\n",
    "\n",
    "Muestra las últimas 2 filas de la tabla."
   ]
  },
  {
   "cell_type": "code",
   "execution_count": null,
   "id": "7dcdd9c9-f4df-460d-bf03-13e63894e142",
   "metadata": {
    "tags": []
   },
   "outputs": [],
   "source": [
    "#Ordena la tabla de géneros (Genre) por orden alfabético, corta los resultados para que solo se muestren los 6 primeros.\n",
    "consulta1 = \"Select * FROM Genre ORDER BY Name ASC LIMIT 6;\"\n",
    "resultado1 = ejecutar_consulta(consulta1)\n",
    "print(\"Consulta 1: Primeros 6 Generos ordenados alfabeticamente\")\n",
    "print(resultado1)"
   ]
  },
  {
   "cell_type": "code",
   "execution_count": null,
   "id": "4afb2855-61eb-4c36-9bcf-c0f344252149",
   "metadata": {
    "tags": []
   },
   "outputs": [],
   "source": [
    "consulta2 = \"Select * FROM Genre ORDER BY Name DESC LIMIT 2;\"\n",
    "resultado2 = ejecutar_consulta(consulta2)\n",
    "print(\"Consulta 2: Muestra las últimas 2 filas de la tabla.\")\n",
    "print(resultado2)"
   ]
  },
  {
   "cell_type": "code",
   "execution_count": null,
   "id": "d0319d0a-ea22-46ef-ac30-3b7c35da3591",
   "metadata": {},
   "outputs": [],
   "source": [
    "Actividad 3-2 (En busca del peor cliente)\n",
    "\n",
    "Volvemos a usar la tabla Customer.\n",
    "\n",
    "Muestra los usuarios que han reportado más de 3 incidencia (columna donde se cuentan es SupportRepid)\n",
    "Filtra los resultados anteriores por los que viven en Brasil.\n",
    "Muestra a los usuarios que tengan un código postal empezado en 7.\n",
    "Muestra a los usuarios que tengan un email de hotmail.\n",
    "Muestra los usuarios nacidos en Estados Unidos (USA) o Canadá (Canada).\n",
    "De los resultados anteriores, muestra los que tengan un email de gmail.\n",
    "Muestra al usuario que trabaja en Apple (columna Company). Te aviso que no sabes el formato de la compañía, podría ser: Apple SL, Company Apple, APPLE…\n",
    "Muestra los usuario que han reportado entre 3 y 4 incidencias."
   ]
  },
  {
   "cell_type": "code",
   "execution_count": null,
   "id": "4c2c6468-72e8-4a74-89f0-82a70d42b8a9",
   "metadata": {
    "tags": []
   },
   "outputs": [],
   "source": [
    "#Muestra los usuarios que han reportado más de 3 incidencia (columna donde se cuentan es SupportRepid)\n",
    "consulta_incidencias = \"Select * FROM Customer WHERE SupportRepid > 3 ;\"\n",
    "resultado_incidencias = ejecutar_consulta(consulta_incidencias)\n",
    "print(\"Consulta 1 : Usuarios que han reportado mas de 3 incidencias\")\n",
    "print(resultado_incidencias)\n"
   ]
  },
  {
   "cell_type": "code",
   "execution_count": null,
   "id": "3a7cdb15-8acf-436b-ba7f-e52a36fc553e",
   "metadata": {
    "tags": []
   },
   "outputs": [],
   "source": [
    "#Filtra los resultados anteriores por los que viven en Brasil.\n",
    "consulta2 = \"SELECT * FROM Customer WHERE Country = 'Brazil' AND SupportRepId > 3;\"\n",
    "resultado2 = ejecutar_consulta(consulta2)\n",
    "print(\"Consulta 2 : Usuarios de Brasil que han reportado mas de 3 incidencias\")\n",
    "print(resultado2)"
   ]
  },
  {
   "cell_type": "code",
   "execution_count": null,
   "id": "2611ef3b-59d6-4819-9390-db5d00b4052a",
   "metadata": {
    "tags": []
   },
   "outputs": [],
   "source": [
    "#Muestra a los usuarios que tengan un código postal empezado en 7.\n",
    "consulta_codigo = \"Select * FROM Customer WHERE PostalCode LIKE '7%' ;\"\n",
    "resultado_codigo = ejecutar_consulta(consulta_codigo)\n",
    "print(\"Consulta 2 : usuarios que tengan un código postal empezado en 7.\")\n",
    "print(resultado_codigo)"
   ]
  },
  {
   "cell_type": "code",
   "execution_count": null,
   "id": "287f3cc2-fd20-4d86-a90c-ff837f0ca788",
   "metadata": {},
   "outputs": [],
   "source": [
    "#Muestra a los usuarios que tengan un email de hotmail.\n",
    "consulta_hotmail = \"SELECT * FROM Customer WHERE Email Like '%hotmail%' ; \"\n",
    "resultado_hotmail = ejecutar_consulta(consulta_hotmail)\n",
    "print(\"Muestra a los usuarios que tengan un email de hotmail\")\n",
    "print(resultado_hotmail)"
   ]
  },
  {
   "cell_type": "code",
   "execution_count": null,
   "id": "87fdd072-9efa-4c35-9669-514bff64dc54",
   "metadata": {
    "tags": []
   },
   "outputs": [],
   "source": [
    "#Muestra los usuarios nacidos en Estados Unidos (USA) o Canadá (Canada).\n",
    "consulta_USA_CANADA = \"SELECT * FROM Customer WHERE Country IN ('USA', 'CANADA'); \"\n",
    "resultado_USA_CANADA = ejecutar_consulta(consulta_USA_CANADA)\n",
    "print(\"Muestra los usuarios nacidos en Estados Unidos (USA) o Canadá (Canada)\")\n",
    "print(resultado_USA_CANADA)\n"
   ]
  },
  {
   "cell_type": "code",
   "execution_count": null,
   "id": "19c18a9e-402a-4708-bb83-9014636a8246",
   "metadata": {
    "tags": []
   },
   "outputs": [],
   "source": [
    "#De los resultados anteriores, muestra los que tengan un email de gmail.\n",
    "consulta6 = \"SELECT * FROM Customer WHERE Country IN ('USA', 'CANADA') AND Email LIKE '%gmail%' ; \"\n",
    "resultado6 = ejecutar_consulta(consulta6)\n",
    "print(\"De los resultados anteriores, muestra los que tengan un email de gmail.\")\n",
    "print(resultado6)"
   ]
  },
  {
   "cell_type": "code",
   "execution_count": null,
   "id": "2cc7856c-6e0a-4ec8-ab6f-13ae0b45ce1c",
   "metadata": {
    "tags": []
   },
   "outputs": [],
   "source": [
    "#Muestra al usuario que trabaja en Apple (columna Company). Te aviso que no sabes el formato de la compañía, podría ser: Apple SL, Company Apple, APPLE…\n",
    "consulta_apple = \" SELECT * FROM Customer WHERE Company LIKE '%Apple%' ; \"\n",
    "resultado_apple = ejecutar_consulta(consulta_apple)\n",
    "print(\"Muestra al usuario que trabaja en Apple\")\n",
    "print(resultado_apple)\n",
    "                            "
   ]
  },
  {
   "cell_type": "code",
   "execution_count": null,
   "id": "58f78893-115c-4739-ade9-e5ec66b8c52e",
   "metadata": {
    "tags": []
   },
   "outputs": [],
   "source": [
    "#Muestra los usuario que han reportado entre 3 y 4 incidencias.\n",
    "consulta_incidencias = \" SELECT * FROM Customer WHERE SupportRepId BETWEEN 3 AND 4 ; \"\n",
    "resultado_incidencias = ejecutar_consulta(consulta_incidencias)\n",
    "print(\"Muestra los usuario que han reportado entre 3 y 4 incidencias\")\n",
    "print(resultado_incidencias)"
   ]
  },
  {
   "cell_type": "code",
   "execution_count": null,
   "id": "34e7113f-a9fb-4abd-8384-07f415f86746",
   "metadata": {},
   "outputs": [],
   "source": [
    "Actividad 3-3 (Limpieza de personal)\n",
    "\n",
    "Usaremos la tabla Employee (empleados).\n",
    "\n",
    "Cuenta la cantidad de empleados que hay por ciudad.\n",
    "Cuenta la cantidad de empleados que hay por departamento.\n",
    "Subir Nota:\n",
    "\n",
    "Muestra la edad de cada empleado.\n",
    "Calcula la media de edad por departamento (Title).\n",
    "Cuenta los empleados que fueron contratados, de media, por año."
   ]
  },
  {
   "cell_type": "code",
   "execution_count": null,
   "id": "5d371224-3c6c-463b-a84e-80acf09ddbba",
   "metadata": {
    "tags": []
   },
   "outputs": [],
   "source": [
    "#Cuenta la cantidad de empleados que hay por ciudad.\n",
    "\n",
    "consulta_empleados = \"SELECT City, COUNT(*) FROM Employee GROUP BY City ; \"\n",
    "resultado_empleados = ejecutar_consulta(consulta_empleados)\n",
    "\n",
    "print(\"Consulta 1 : Cuenta la cantidad de empleados que hay por ciudad\")\n",
    "print(resultado_empleados)\n"
   ]
  },
  {
   "cell_type": "code",
   "execution_count": null,
   "id": "9df3cbde-710e-4e63-9498-54884b7c0ea2",
   "metadata": {
    "tags": []
   },
   "outputs": [],
   "source": [
    "#Cuenta la cantidad de empleados que hay por departamento.\n",
    "consulta_empleados2 = \"SELECT Title, COUNT(*) FROM Employee GROUP BY Title ; \"\n",
    "resultado_empleados2 = ejecutar_consulta(consulta_empleados2)\n",
    "\n",
    "print(\"Consulta 2 : Cuenta la cantidad de empleados que hay por ciudad\")\n",
    "print(resultado_empleados2)\n"
   ]
  },
  {
   "cell_type": "code",
   "execution_count": null,
   "id": "84408bbd-aba0-404a-bde1-798e44f58e0b",
   "metadata": {},
   "outputs": [],
   "source": [
    "Actividad 4-1 (Experto en canciones)\n",
    "\n",
    "Volvemos a usar la tabla Track (canción).\n",
    "\n",
    "Muestra todas las canciones con el MediaType Protected AAC audio file.\n",
    "Muestra todas las canciones que contengan algún MediaType con AAC.\n",
    "Muestra todas las canciones que duren más de 2 minutos.\n",
    "Muestra todas las canciones de Jazz.\n",
    "Averigua cual es la canción más pesada.\n",
    "Subir Nota:\n",
    "\n",
    "¿Cuantos discos tiene Led Zeppelin?\n",
    "De entre sus discos, ¿cuanto cuesta el disco Houses Of The Holy?"
   ]
  },
  {
   "cell_type": "code",
   "execution_count": null,
   "id": "f43b103e-65d1-455e-8c8d-6df41be68ec3",
   "metadata": {
    "tags": []
   },
   "outputs": [],
   "source": [
    "#Muestra todas las canciones con el MediaType Protected AAC audio file.\n",
    "\n",
    "consulta_canciones = \"SELECT * FROM Track JOIN MediaType ON Track.MediaTypeId = MediaType.MediaTypeId WHERE MediaType.Name = 'Protected AAC audio file' ; \"\n",
    "resultado_canciones = ejecutar_consulta(consulta_canciones)\n",
    "\n",
    "print(\"Consulta 1 : Muestra todas las canciones con el MediaType Protected AAC audio file\")\n",
    "print(resultado_canciones)"
   ]
  },
  {
   "cell_type": "code",
   "execution_count": null,
   "id": "08abfc6d-09fc-485a-a816-a19db693d434",
   "metadata": {
    "tags": []
   },
   "outputs": [],
   "source": [
    "#Muestra todas las canciones que contengan algún MediaType con AAC.\n",
    "consulta_canciones2 = \"SELECT * FROM Track JOIN MediaType ON Track.MediaTypeId = MediaType.MediaTypeId WHERE MediaType.Name LIKE '%AAC%' ; \"\n",
    "resultado_canciones2 = ejecutar_consulta(consulta_canciones2)\n",
    "\n",
    "print(\"Consulta 2 : Muestra todas las canciones que contengan algún MediaType con AAC:\")\n",
    "print(resultado_canciones2)"
   ]
  },
  {
   "cell_type": "code",
   "execution_count": null,
   "id": "bdf4600a-aa85-4fba-9a69-69d275bc608d",
   "metadata": {
    "tags": []
   },
   "outputs": [],
   "source": [
    "#Muestra todas las canciones que duren más de 2 minutos.\n",
    "consulta_canciones3 = \"SELECT * FROM Track WHERE Milliseconds > 120000 ; \"\n",
    "resultado_canciones3 = ejecutar_consulta(consulta_canciones3)\n",
    "\n",
    "print(\"Consulta 3 : Muestra todas las canciones que duren más de 2 minutos:\")\n",
    "print(resultado_canciones3)"
   ]
  },
  {
   "cell_type": "code",
   "execution_count": null,
   "id": "75432904-d4b6-41eb-abc5-1033fcf50ec6",
   "metadata": {
    "tags": []
   },
   "outputs": [],
   "source": [
    "#Muestra todas las canciones de Jazz.\n",
    "\n",
    "consulta_canciones4 = \"SELECT * FROM Track JOIN Genre ON Track.GenreId = Genre.GenreId WHERE Genre.Name = 'Jazz' ; \"\n",
    "resultado_canciones4 = ejecutar_consulta(consulta_canciones4)\n",
    "\n",
    "print(\"Consulta 4 : Muestra todas las canciones de Jazz.:\")\n",
    "print(resultado_canciones4)"
   ]
  },
  {
   "cell_type": "code",
   "execution_count": null,
   "id": "5afc0be5-8f5f-43fb-ae99-417c726004b1",
   "metadata": {
    "tags": []
   },
   "outputs": [],
   "source": [
    "#Averigua cual es la canción más pesada.\n",
    "\n",
    "consulta_canciones5 = \"SELECT * FROM Track ORDER BY Bytes DESC LIMIT 1 ; \"\n",
    "resultado_canciones5 = ejecutar_consulta(consulta_canciones5)\n",
    "\n",
    "print(\"Consulta 5 : Averigua cual es la canción más pesada:\")\n",
    "print(resultado_canciones5)"
   ]
  },
  {
   "cell_type": "code",
   "execution_count": null,
   "id": "b95b1404-9e89-4656-9707-06df1fcc7b3c",
   "metadata": {
    "tags": []
   },
   "outputs": [],
   "source": [
    "#¿Cuantos discos tiene Led Zeppelin?\n",
    "\n",
    "consulta_discos = \"SELECT * FROM Album JOIN Artist ON Album.ArtistId = Artist.ArtistId WHERE Artist.Name = 'Led Zeppelin' ;\"\n",
    "resultado_discos = ejecutar_consulta(consulta_discos)\n",
    "\n",
    "print(\"Consulta discos : ¿Cuantos discos tiene Led Zeppelin?:\")\n",
    "print(resultado_discos)"
   ]
  },
  {
   "cell_type": "code",
   "execution_count": null,
   "id": "7bb243d2-9745-4b89-b232-f95e93480492",
   "metadata": {},
   "outputs": [],
   "source": [
    "#De entre sus discos, ¿cuanto cuesta el disco Houses Of The Holy?\n",
    "\n",
    "consulta_discos = \"SELECT SUM(Track.UnitPrice) AS TotalPrice FROM Track JOIN Album ON Track.AlbumId = Album.AlbumId JOIN Artist ON Album.ArtistId = Artist.ArtistId WHERE Artist.Name = 'Led Zeppelin' AND Album.Title = 'Houses Of The Holy' ;\"\n",
    "resultado_discos = ejecutar_consulta(consulta_discos)\n",
    "\n",
    "print(\"Consulta discos : ¿cuanto cuesta el disco Houses Of The Holy?:\")\n",
    "print(resultado_discos)"
   ]
  },
  {
   "cell_type": "code",
   "execution_count": null,
   "id": "518272a5-77b3-468e-b52c-35f9f7d908d8",
   "metadata": {},
   "outputs": [],
   "source": [
    "Actividad 5-1 (Solo compañías)\n",
    "\n",
    "De la tabla Customer crea una vista llamada Customer_with_companies, donde estarán incluidos todos los resultados salvo cuando Company sea NULL. A partir de la vista realiza las siguientes acciones.\n",
    "\n",
    "Ordena los resultados por orden alfabético de Company.\n",
    "Muestra que compañías son de Brazil."
   ]
  },
  {
   "cell_type": "code",
   "execution_count": null,
   "id": "bb98cbf4-e226-4181-8e02-c7dd9fef16db",
   "metadata": {
    "tags": []
   },
   "outputs": [],
   "source": [
    "#eliminamos la vista porque me pone que ya existe cuando ejecuto\n",
    "consulta_compañias = \"DROP VIEW IF EXISTS Customer_with_companies\"\n",
    "cursor.execute(consulta_compañias)\n",
    "con.commit()"
   ]
  },
  {
   "cell_type": "code",
   "execution_count": null,
   "id": "e6b9a87d-1fe3-41e3-9977-a2924909b69d",
   "metadata": {
    "tags": []
   },
   "outputs": [],
   "source": [
    "#De la tabla Customer crea una vista llamada Customer_with_companies, donde estarán incluidos todos los resultados salvo cuando Company sea NULL. A partir de la vista realiza las siguientes acciones.\n",
    "\n",
    "consulta_compañias = \"CREATE VIEW Customer_with_companies AS SELECT * FROM Customer WHERE Company IS NOT NULL;\"\n",
    "cursor.execute(consulta_compañias)\n",
    "con.commit()"
   ]
  },
  {
   "cell_type": "code",
   "execution_count": null,
   "id": "7913d9f9-07f6-47aa-a637-a8cf2afde4c2",
   "metadata": {
    "tags": []
   },
   "outputs": [],
   "source": [
    "#Ordena los resultados por orden alfabético de Company.\n",
    "consulta_compañias = \"SELECT * FROM Customer_with_companies ORDER BY Company ASC;\"\n",
    "resultado_compañias = ejecutar_consulta(consulta_compañias)\n",
    "\n",
    "print(\"Ordena los resultados por orden alfabético de Company.\")\n",
    "print(resultado_compañias)"
   ]
  },
  {
   "cell_type": "code",
   "execution_count": null,
   "id": "93071f4c-623b-4bb8-81e9-ec4cd73a9aad",
   "metadata": {
    "tags": []
   },
   "outputs": [],
   "source": [
    "#Muestra que compañías son de Brazil.\n",
    "\n",
    "consulta_compañias = \"SELECT * FROM Customer_with_companies WHERE Country = 'Brazil'\"\n",
    "resultado_compañias = ejecutar_consulta(consulta_compañias)\n",
    "\n",
    "print(\"#Muestra que compañías son de Brazil.\")\n",
    "print(resultado_compañias)"
   ]
  },
  {
   "cell_type": "code",
   "execution_count": null,
   "id": "8bc7ff83-913e-494d-94fb-ae06eab6f318",
   "metadata": {},
   "outputs": [],
   "source": [
    "Actividad 6-1 (Dame la factura)\n",
    "\n",
    "De la tabla Track, consigue la siguiente información.\n",
    "\n",
    "Cual es el título de la canción que menos pesa (Bytes).\n",
    "Cual es el título de la canción que más dura (Miliseconds).\n",
    "Cuantas canciones cuestan 1$ o más.\n",
    "Cuantas canciones hay de Queen.\n",
    "Cual es la media de duración entre todas las canciones.\n",
    "Cual es la media de peso entre todas las canciones de U2.\n",
    "Cuantas canciones esta Bill Berry como Composer (Compositor).\n",
    "Un Mb son: Bite / 1024 / 1024. Muestra todos los Tracks calculando, y renombrando, la columna Bytes en Mb."
   ]
  },
  {
   "cell_type": "code",
   "execution_count": null,
   "id": "3a6e721f-f573-4f5c-ac5a-c84dd2337b48",
   "metadata": {
    "tags": []
   },
   "outputs": [],
   "source": [
    "#Cual es el título de la canción que menos pesa (Bytes).\n",
    "consulta = \"SELECT Name FROM Track ORDER BY Bytes ASC LIMIT 1\"\n",
    "resultado_consulta = ejecutar_consulta(consulta)\n",
    "\n",
    "print(\"Cual es el título de la canción que menos pesa (Bytes)\")\n",
    "print(resultado_consulta)\n"
   ]
  },
  {
   "cell_type": "code",
   "execution_count": null,
   "id": "9e5d5f21-a074-4a12-aff0-d1ddf90f066e",
   "metadata": {
    "tags": []
   },
   "outputs": [],
   "source": [
    "#Cual es el título de la canción que más dura (Miliseconds).\n",
    "consulta = \"SELECT Name FROM Track ORDER BY Milliseconds DESC LIMIT 1\"\n",
    "resultado_consulta = ejecutar_consulta(consulta)\n",
    "\n",
    "print(\"#Cual es el título de la canción que más dura (Miliseconds)\")\n",
    "print(resultado_consulta)\n"
   ]
  },
  {
   "cell_type": "code",
   "execution_count": null,
   "id": "35acb1eb-d1d9-4b29-bea3-cf49b7699890",
   "metadata": {
    "tags": []
   },
   "outputs": [],
   "source": [
    "#Cuantas canciones cuestan 1$ o más.\n",
    "consulta = \"SELECT COUNT(*) FROM Track WHERE UnitPrice >=1\"\n",
    "resultado_consulta = ejecutar_consulta(consulta)\n",
    "\n",
    "print(\"Cuantas canciones cuestan 1$ o más.\")\n",
    "print(resultado_consulta)"
   ]
  },
  {
   "cell_type": "code",
   "execution_count": null,
   "id": "ed84c312-6e15-480c-a19e-f262c4d53472",
   "metadata": {
    "tags": []
   },
   "outputs": [],
   "source": [
    "#Cuantas canciones hay de Queen.\n",
    "consulta = \"SELECT COUNT(*) FROM Track WHERE AlbumId IN (SELECT AlbumId FROM Album WHERE ArtistId = (SELECT ArtistId From Artist WHERE Name = 'Queen'))\"\n",
    "resultado_consulta = ejecutar_consulta(consulta)\n",
    "\n",
    "print(\"Cuantas canciones hay de Queen.\")\n",
    "print(resultado_consulta)"
   ]
  },
  {
   "cell_type": "code",
   "execution_count": null,
   "id": "c4b17171-eef9-4e77-8a25-e5356a4b80eb",
   "metadata": {
    "tags": []
   },
   "outputs": [],
   "source": [
    "#Cual es la media de duración entre todas las canciones.\n",
    "consulta = \"SELECT AVG(Milliseconds) AS MediaDuracion FROM Track\"\n",
    "resultado_consulta = ejecutar_consulta(consulta)\n",
    "\n",
    "print(\"Cual es la media de duración entre todas las canciones.\")\n",
    "print(resultado_consulta)"
   ]
  },
  {
   "cell_type": "code",
   "execution_count": null,
   "id": "95d8fd1a-3383-43ad-9c40-857e8984ead0",
   "metadata": {
    "tags": []
   },
   "outputs": [],
   "source": [
    "#Cual es la media de peso entre todas las canciones de U2.\n",
    "consulta = \"SELECT AVG(Bytes) AS MediaPeso FROM Track WHERE AlbumId IN (SELECT AlbumId FROM Album WHERE ArtistId = (SELECT ArtistId From Artist WHERE Name = 'U2'))\"\n",
    "resultado_consulta = ejecutar_consulta(consulta)\n",
    "\n",
    "print(\"Cual es la media de peso entre todas las canciones de U2\")\n",
    "print(resultado_consulta)"
   ]
  },
  {
   "cell_type": "code",
   "execution_count": null,
   "id": "4a96d22f-808a-424e-b443-747eceb2725c",
   "metadata": {
    "tags": []
   },
   "outputs": [],
   "source": [
    "#Cuantas canciones esta Bill Berry como Composer (Compositor).\n",
    "consulta = \"SELECT COUNT(*) FROM Track WHERE Composer LIKE '%Bill Berry%'\"\n",
    "resultado_consulta = ejecutar_consulta(consulta)\n",
    "\n",
    "print(\"Cuantas canciones esta Bill Berry como Composer (Compositor).\")\n",
    "print(resultado_consulta)\n"
   ]
  },
  {
   "cell_type": "code",
   "execution_count": null,
   "id": "11d2a5e1-7569-4c0f-831a-4ca6dc95992b",
   "metadata": {
    "tags": []
   },
   "outputs": [],
   "source": [
    "#Un Mb son: Bite / 1024 / 1024. Muestra todos los Tracks calculando, y renombrando, la columna Bytes en Mb.\n",
    "consulta = \"SELECT TrackId, Name, Bytes / 1024.0 / 1024.0 AS SIZE_MB FROM Track\"\n",
    "resultado_consulta = ejecutar_consulta(consulta)\n",
    "\n",
    "print(\"Un Mb son: Bite / 1024 / 1024. Muestra todos los Tracks calculando, y renombrando, la columna Bytes en Mb.\")\n",
    "print(resultado_consulta)"
   ]
  },
  {
   "cell_type": "code",
   "execution_count": null,
   "id": "1f53fe73-575b-4231-b092-c1f774636a30",
   "metadata": {},
   "outputs": [],
   "source": [
    "Actividad 7-1 (Buscando facturas)\n",
    "\n",
    "De la tabla Invoice, consigue la siguiente información.\n",
    "\n",
    "Muestra: InvoiceId, nombre del cliente y BillingCountry.\n",
    "Ordena de mayor a menor por Total.\n",
    "Cual es el país que más a facturado."
   ]
  },
  {
   "cell_type": "code",
   "execution_count": null,
   "id": "74884e34-aac4-451d-ab1a-443b5fe0571f",
   "metadata": {
    "tags": []
   },
   "outputs": [],
   "source": [
    "#Muestra: InvoiceId, nombre del cliente y BillingCountry. Ordena de mayor a menor por Total.\n",
    "consulta = \"SELECT Invoice.InvoiceId, (Customer.FirstName || ' ' || Customer.LastName) AS CustomerName, Invoice.BillingCountry FROM Invoice JOIN Customer ON Invoice.CustomerId = Customer.CustomerId ORDER BY Invoice.Total DESC;\"\n",
    "resultado_consulta = ejecutar_consulta(consulta)\n",
    "\n",
    "print(\"Muestra: InvoiceId, nombre del cliente y BillingCountry. Ordena de mayor a menor por Total.\")\n",
    "print(resultado_consulta)"
   ]
  },
  {
   "cell_type": "code",
   "execution_count": null,
   "id": "c7e6dc3a-f3ef-4450-a6d3-7dcaced08554",
   "metadata": {
    "tags": []
   },
   "outputs": [],
   "source": [
    "#Cual es el país que más a facturado.\n",
    "consulta = \"SELECT BillingCountry, SUM(Total) AS TotalAmount FROM Invoice GROUP BY BillingCountry ORDER BY TotalAmount DESC LIMIT 1;\"\n",
    "resultado_consulta = ejecutar_consulta(consulta)\n",
    "\n",
    "print(\"Cual es el país que más a facturado.\")\n",
    "print(resultado_consulta)"
   ]
  },
  {
   "cell_type": "code",
   "execution_count": null,
   "id": "38a40a04-3e82-4395-ae22-649319d0d7e9",
   "metadata": {
    "tags": []
   },
   "outputs": [],
   "source": [
    "Actividad 8-1 (Alimentado la productora)\n",
    "\n",
    "Añade 5 artistas que te gusten en la tabla Artist.\n",
    "Introduce el MediaType Wav.\n",
    "Crea 2 discos que estén relacionados con los artistas que has creado."
   ]
  },
  {
   "cell_type": "code",
   "execution_count": null,
   "id": "39a2d41b-a382-47a1-839d-21c8aec5a2dc",
   "metadata": {
    "tags": []
   },
   "outputs": [],
   "source": [
    "#Añade 5 artistas que te gusten en la tabla Artist.\n",
    "\n",
    "consulta = \"INSERT INTO Artist (Name) VALUES ('Pedro Perez'), ('Juan Pisto'), ('Rebeca Primera'), ('Sofia Liarte'), ('Pablo Napoles');\"\n",
    "con.execute(consulta)\n",
    "print(\"5 artistas añadidos\")\n"
   ]
  },
  {
   "cell_type": "code",
   "execution_count": null,
   "id": "2992da08-4187-42ff-8262-6e42194867d0",
   "metadata": {
    "tags": []
   },
   "outputs": [],
   "source": [
    "#Introduce el MediaType Wav\n",
    "consulta = \"INSERT INTO MediaType (Name) VALUES ('Wav')\"\n",
    "con.execute(consulta)\n",
    "print(\"Introduce el MediaType Wav\")"
   ]
  },
  {
   "cell_type": "code",
   "execution_count": null,
   "id": "3f8393d4-7b53-4ce2-99f8-8427ba763477",
   "metadata": {
    "tags": []
   },
   "outputs": [],
   "source": [
    "#Crea 2 discos que estén relacionados con los artistas que has creado.\n",
    "consulta = \"INSERT INTO Album (Title, ArtistId) VALUES ('Album Rock', 348), ('Album Pop', 349)\"\n",
    "con.execute(consulta)\n",
    "print(\"2 albums añadidos\")"
   ]
  },
  {
   "cell_type": "code",
   "execution_count": null,
   "id": "d3326e09-c8f3-4aed-9e52-2d1b6bf59e8a",
   "metadata": {},
   "outputs": [],
   "source": [
    "Actividad 9-1 (Artistas desaparecidos)\n",
    "\n",
    "Volvemos a usar la tabla Artist (canción). (usa PRAGMA foreign_keys = OFF para desactivar la comprobación)\n",
    "\n",
    "Borra a U2.\n",
    "Borra los artistas que tengan en su nombre el símbolo &.\n",
    "Borra los artistas con una Id entre 201 y 230.\n",
    "Borra toda la tabla de Track."
   ]
  },
  {
   "cell_type": "code",
   "execution_count": null,
   "id": "117cc3c3-05c8-4195-adfd-7b4b6094d010",
   "metadata": {
    "tags": []
   },
   "outputs": [],
   "source": [
    "#usa PRAGMA foreign_keys = OFF para desactivar la comprobación\n",
    "con.execute(\"PRAGMA foreign_keys = OFF;\")"
   ]
  },
  {
   "cell_type": "code",
   "execution_count": null,
   "id": "5694964b-1d65-44fd-b162-125517e524be",
   "metadata": {
    "tags": []
   },
   "outputs": [],
   "source": [
    "#Borra a U2.\n",
    "consulta = \"DELETE FROM Artist WHERE Name = 'U2';\"\n",
    "con.execute(consulta)\n",
    "print(\"Borramos U2\")"
   ]
  },
  {
   "cell_type": "code",
   "execution_count": null,
   "id": "3d0039f5-86f8-4dd6-ad1b-e4de39b4213c",
   "metadata": {
    "tags": []
   },
   "outputs": [],
   "source": [
    "#Borra los artistas que tengan en su nombre el símbolo &.\n",
    "consulta = \"DELETE FROM Artist WHERE Name LIKE '%&%';\"\n",
    "con.execute(consulta)\n",
    "print(\"Borra los artistas que tengan en su nombre el símbolo &\")"
   ]
  },
  {
   "cell_type": "code",
   "execution_count": null,
   "id": "c1015bf8-79a5-48a0-951e-1bd5dc4b51d8",
   "metadata": {
    "tags": []
   },
   "outputs": [],
   "source": [
    "#Borra los artistas con una Id entre 201 y 230.\n",
    "consulta = \"DELETE FROM Artist WHERE Name BETWEEN 201 AND 230;\"\n",
    "con.execute(consulta)\n",
    "print(\"Borra los artistas con una Id entre 201 y 230.\")"
   ]
  },
  {
   "cell_type": "code",
   "execution_count": null,
   "id": "610d764a-0926-41a4-a18d-f7badeb0ea33",
   "metadata": {
    "tags": []
   },
   "outputs": [],
   "source": [
    "#Borra toda la tabla de Track.\n",
    "consulta = \"DELETE FROM Track;\"\n",
    "con.execute(consulta)\n",
    "print(\"Borra toda la tabla de Track\")"
   ]
  },
  {
   "cell_type": "code",
   "execution_count": null,
   "id": "2c633993-0eab-4904-b487-0e1e3a0b4e03",
   "metadata": {
    "tags": []
   },
   "outputs": [],
   "source": [
    "#habilitamos foreing key \n",
    "con.execute(\"PRAGMA foreign_keys = ON;\")"
   ]
  },
  {
   "cell_type": "code",
   "execution_count": null,
   "id": "b4f0c4a3-b963-4b6a-87cf-ece7c5c3b9d8",
   "metadata": {},
   "outputs": [],
   "source": [
    "Actividad 10-1 (Se acabaron las rebajas)\n",
    "\n",
    "Volvemos a usar la tabla Track (canción).\n",
    "\n",
    "Sube el precio de todas las canciones de 0.99 a 2.99.\n",
    "Sube el precio de todas las canciones de 1.99 a 4.99.\n",
    "Cambia el Compositor (Composer) por Sara del TrackId número 2000.\n",
    "Cambia el Compositor (Composer) por clasico de todas las canciones que empiecen con el nombre Concerto."
   ]
  },
  {
   "cell_type": "code",
   "execution_count": null,
   "id": "280a2da0-d800-40c6-8fcc-d3491d0099ff",
   "metadata": {
    "tags": []
   },
   "outputs": [],
   "source": [
    "#Sube el precio de todas las canciones de 0.99 a 2.99.\n",
    "consulta = \"UPDATE Track SET UnitPrice = 2.99 WHERE UnitPrice = 0.99;\"\n",
    "con.execute(consulta)\n",
    "con.commit()\n",
    "print(\"Sube el precio de todas las canciones de 0.99 a 2.99\")\n"
   ]
  },
  {
   "cell_type": "code",
   "execution_count": null,
   "id": "0f2d4f3f-c08d-4763-b059-020199df3a75",
   "metadata": {
    "tags": []
   },
   "outputs": [],
   "source": [
    "#verificamos la subida\n",
    "consulta = \"SELECT Name, UnitPrice FROM Track WHERE UnitPrice = 2.99;\"\n",
    "print(ejecutar_consulta(consulta))\n",
    "print(\"Sube el precio de todas las canciones de 0.99 a 2.99\")"
   ]
  },
  {
   "cell_type": "code",
   "execution_count": null,
   "id": "5de73fe8-7950-4980-bf54-83069fc167e4",
   "metadata": {
    "tags": []
   },
   "outputs": [],
   "source": [
    "#Sube el precio de todas las canciones de 1.99 a 4.99.\n",
    "consulta = \"UPDATE Track SET UnitPrice = 4.99 WHERE UnitPrice = 1.99;\"\n",
    "con.execute(consulta)\n",
    "con.commit()\n",
    "print(\"Sube el precio de todas las canciones de 1.99 a 4.99.\")"
   ]
  },
  {
   "cell_type": "code",
   "execution_count": null,
   "id": "07b75dac-df8c-4ce6-901e-0fd8864b33e3",
   "metadata": {
    "tags": []
   },
   "outputs": [],
   "source": [
    "#verificamos la subida\n",
    "consulta = \"SELECT Name, UnitPrice FROM Track WHERE UnitPrice = 4.99;\"\n",
    "print(ejecutar_consulta(consulta))\n",
    "print(\"Sube el precio de todas las canciones de 1.99 a 4.99.\")"
   ]
  },
  {
   "cell_type": "code",
   "execution_count": null,
   "id": "e2594320-71a4-48c2-8f68-f230f600d9c7",
   "metadata": {
    "tags": []
   },
   "outputs": [],
   "source": [
    "#Cambia el Compositor (Composer) por Sara del TrackId número 2000.\n",
    "consulta = \"UPDATE Track SET Composer = 'Sara' WHERE TrackId = 2000;\"\n",
    "con.execute(consulta)\n",
    "con.commit()\n",
    "print(\"Cambia el Compositor (Composer) por Sara del TrackId número 2000\")"
   ]
  },
  {
   "cell_type": "code",
   "execution_count": null,
   "id": "ec5b6ff2-463a-47bf-bc84-7ad343000786",
   "metadata": {
    "tags": []
   },
   "outputs": [],
   "source": [
    "#Cambia el Compositor (Composer) por clasico de todas las canciones que empiecen con el nombre Concerto.\n",
    "consulta = \"UPDATE Track SET Composer = 'clasico' WHERE Name LIKE '%Concerto%';\"\n",
    "con.execute(consulta)\n",
    "con.commit()\n",
    "print(\"#Cambia el Compositor (Composer) por clasico de todas las canciones que empiecen con el nombre Concerto\")"
   ]
  },
  {
   "cell_type": "code",
   "execution_count": null,
   "id": "54fe52ca-9714-4baf-8f4f-58693f497d9d",
   "metadata": {
    "tags": []
   },
   "outputs": [],
   "source": [
    "#cerramos conexion\n",
    "con.close()"
   ]
  },
  {
   "cell_type": "code",
   "execution_count": null,
   "id": "f8b616ad-5832-43dc-a912-7ddec5685451",
   "metadata": {},
   "outputs": [],
   "source": []
  }
 ],
 "metadata": {
  "kernelspec": {
   "display_name": "Python 3 (ipykernel)",
   "language": "python",
   "name": "python3"
  },
  "language_info": {
   "codemirror_mode": {
    "name": "ipython",
    "version": 3
   },
   "file_extension": ".py",
   "mimetype": "text/x-python",
   "name": "python",
   "nbconvert_exporter": "python",
   "pygments_lexer": "ipython3",
   "version": "3.11.5"
  }
 },
 "nbformat": 4,
 "nbformat_minor": 5
}
